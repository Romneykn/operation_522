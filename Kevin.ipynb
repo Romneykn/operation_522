{
 "cells": [
  {
   "cell_type": "code",
   "execution_count": 51,
   "id": "adjusted-picture",
   "metadata": {},
   "outputs": [],
   "source": [
    "import numpy as np\n",
    "from scipy.sparse import linalg as spla\n",
    "from scipy.io import loadmat\n",
    "import graphlearning as gl\n",
    "from matplotlib import pyplot as plt"
   ]
  },
  {
   "cell_type": "code",
   "execution_count": 46,
   "id": "grand-privilege",
   "metadata": {},
   "outputs": [
    {
     "name": "stdout",
     "output_type": "stream",
     "text": [
      "kNN search with Annoy approximate nearest neighbor package...\n",
      "Progress: |██████████████████████████████████████████████████| 100.0% Complete\n"
     ]
    }
   ],
   "source": [
    "def get_dataset():\n",
    "    img = loadmat('Indian_pines_corrected.mat')['indian_pines_corrected']\n",
    "    gt = loadmat('Indian_pines_gt.mat')['indian_pines_gt']\n",
    "    \n",
    "    # Save dataset\n",
    "    X = img.reshape(-1, 200)\n",
    "    gl.save_dataset(X, 'indian_pines', overwrite=True)\n",
    "\n",
    "    # Save labels\n",
    "    L = gt.reshape(-1)\n",
    "    gl.save_labels(L, 'indian_pines', overwrite=True)\n",
    "\n",
    "    # To add a dataset to the simulation environment, we also need\n",
    "    # to save a label permutation, which is a number of random train/test splits\n",
    "    # and store some precomputed knn-data\n",
    "\n",
    "    # Create label permutation with 100 trials at 1,2,3,4,5 labels per class\n",
    "    # You can add any identifying string as name='...' if you need to create additional\n",
    "    # label permutations for a dataset.\n",
    "#     gl.create_label_permutations(L, 100, [1,2,3,4,5], dataset='indian_pines', name=None, overwrite=True)\n",
    "\n",
    "    # Run knn search and save info on 30 nearest neighbors\n",
    "    # Choose as many as you are likely to use in practice, the code will automatically subset if needed.\n",
    "    # This uses a kd-tree. For higher dimensional data use the annoy package, as below\n",
    "    I, J, D = gl.knnsearch_annoy(X, 30, dataset='indian_pines')\n",
    "    # I, J, D = gl.knnsearch(X, 30, dataset='indian_pines')\n",
    "    return I, J, D\n",
    "    \n",
    "I, J, D = get_dataset()"
   ]
  },
  {
   "cell_type": "markdown",
   "id": "twenty-morocco",
   "metadata": {},
   "source": [
    "<img src=\"high_level_overview.png\"/>"
   ]
  },
  {
   "cell_type": "code",
   "execution_count": 54,
   "id": "divine-vertex",
   "metadata": {},
   "outputs": [],
   "source": [
    "def loop():\n",
    "    labels = gl.load_labels('indian_pines')\n",
    "    train_ind = gl.randomize_labels(labels, 1)\n",
    "    tau = .1\n",
    "    \n",
    "    pred_labels = []\n",
    "    acc = 0\n",
    "    while acc < .01:\n",
    "        # Get Weight Matrix and Adjusted Graph Laplacian\n",
    "        W = gl.weight_matrix(I, J, D, 10)\n",
    "        L = gl.graph_laplacian(W, norm='none') + tau**2*gl.sparse.identity(W.shape[0])\n",
    "        \n",
    "        # Run SSL\n",
    "        train_labels = labels[train_ind]\n",
    "        pred_labels = gl.graph_ssl(W, train_ind, train_labels, algorithm='laplace')\n",
    "        # Calculate Accuracy\n",
    "        acc = np.sum(pred_labels == labels) / len(labels)\n",
    "        print('Accuracy:', acc)\n",
    "        \n",
    "        def J_l()\n",
    "        \n",
    "        w, v = spla.eigs(L, 50)\n",
    "        A = np.random.randn()\n",
    "        \n",
    "        \n",
    "    return acc, pred_labels"
   ]
  },
  {
   "cell_type": "code",
   "execution_count": 55,
   "id": "inclusive-system",
   "metadata": {},
   "outputs": [
    {
     "name": "stdout",
     "output_type": "stream",
     "text": [
      "[ 8580 10396  6873     9  6824 11315 16160 10550  8692  9447  8049   552\n",
      "  2066 16994 17924  1253  2947]\n",
      "Accuracy: 0.2182639714625446\n",
      "(21025, 50)\n"
     ]
    },
    {
     "data": {
      "text/plain": [
       "(0.2182639714625446, array([ 3,  0, 10, ...,  5, 15, 15], dtype=uint8))"
      ]
     },
     "execution_count": 55,
     "metadata": {},
     "output_type": "execute_result"
    }
   ],
   "source": [
    "loop()"
   ]
  },
  {
   "cell_type": "code",
   "execution_count": null,
   "id": "fifteen-faith",
   "metadata": {},
   "outputs": [],
   "source": []
  }
 ],
 "metadata": {
  "kernelspec": {
   "display_name": "Python 3",
   "language": "python",
   "name": "python3"
  },
  "language_info": {
   "codemirror_mode": {
    "name": "ipython",
    "version": 3
   },
   "file_extension": ".py",
   "mimetype": "text/x-python",
   "name": "python",
   "nbconvert_exporter": "python",
   "pygments_lexer": "ipython3",
   "version": "3.9.2"
  }
 },
 "nbformat": 4,
 "nbformat_minor": 5
}
